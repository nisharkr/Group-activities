{
 "cells": [
  {
   "cell_type": "code",
   "execution_count": null,
   "id": "d6033114",
   "metadata": {},
   "outputs": [],
   "source": [
    "1.Explain the Dataset\n",
    "2.Check the summary satistics and discuss the max,min,avg,median and percentiles\n",
    "3.The manger wants to find out whether the same amount was spent for the three advertisements(TV,Radio and newspaper).\n",
    "Comment on your findings"
   ]
  },
  {
   "cell_type": "code",
   "execution_count": 1,
   "id": "f52761fc",
   "metadata": {},
   "outputs": [],
   "source": [
    "import pandas as pd\n",
    "from scipy import stats"
   ]
  },
  {
   "cell_type": "code",
   "execution_count": 3,
   "id": "451a16a9",
   "metadata": {
    "scrolled": true
   },
   "outputs": [
    {
     "name": "stdout",
     "output_type": "stream",
     "text": [
      "<class 'pandas.core.frame.DataFrame'>\n",
      "RangeIndex: 200 entries, 0 to 199\n",
      "Data columns (total 5 columns):\n",
      " #   Column      Non-Null Count  Dtype  \n",
      "---  ------      --------------  -----  \n",
      " 0   Unnamed: 0  200 non-null    int64  \n",
      " 1   TV          200 non-null    float64\n",
      " 2   Radio       200 non-null    float64\n",
      " 3   Newspaper   200 non-null    float64\n",
      " 4   Sales       200 non-null    float64\n",
      "dtypes: float64(4), int64(1)\n",
      "memory usage: 7.9 KB\n"
     ]
    }
   ],
   "source": [
    "ds = pd.read_csv('Advertising.csv')\n",
    "ds.info()\n"
   ]
  },
  {
   "cell_type": "code",
   "execution_count": null,
   "id": "56034b55",
   "metadata": {},
   "outputs": [],
   "source": [
    "The given dataset consists of advertisement expenses on three different medias(TV,Radio and Newspaper) \n",
    "and the sales for the period.\n",
    "There are 200 rows of data.\n",
    "There is no null values in the dataset"
   ]
  },
  {
   "cell_type": "code",
   "execution_count": 6,
   "id": "bb7657da",
   "metadata": {},
   "outputs": [
    {
     "data": {
      "text/html": [
       "<div>\n",
       "<style scoped>\n",
       "    .dataframe tbody tr th:only-of-type {\n",
       "        vertical-align: middle;\n",
       "    }\n",
       "\n",
       "    .dataframe tbody tr th {\n",
       "        vertical-align: top;\n",
       "    }\n",
       "\n",
       "    .dataframe thead th {\n",
       "        text-align: right;\n",
       "    }\n",
       "</style>\n",
       "<table border=\"1\" class=\"dataframe\">\n",
       "  <thead>\n",
       "    <tr style=\"text-align: right;\">\n",
       "      <th></th>\n",
       "      <th>Unnamed: 0</th>\n",
       "      <th>TV</th>\n",
       "      <th>Radio</th>\n",
       "      <th>Newspaper</th>\n",
       "      <th>Sales</th>\n",
       "    </tr>\n",
       "  </thead>\n",
       "  <tbody>\n",
       "    <tr>\n",
       "      <th>count</th>\n",
       "      <td>200.000000</td>\n",
       "      <td>200.000000</td>\n",
       "      <td>200.000000</td>\n",
       "      <td>200.000000</td>\n",
       "      <td>200.000000</td>\n",
       "    </tr>\n",
       "    <tr>\n",
       "      <th>mean</th>\n",
       "      <td>100.500000</td>\n",
       "      <td>147.042500</td>\n",
       "      <td>23.264000</td>\n",
       "      <td>30.554000</td>\n",
       "      <td>14.022500</td>\n",
       "    </tr>\n",
       "    <tr>\n",
       "      <th>std</th>\n",
       "      <td>57.879185</td>\n",
       "      <td>85.854236</td>\n",
       "      <td>14.846809</td>\n",
       "      <td>21.778621</td>\n",
       "      <td>5.217457</td>\n",
       "    </tr>\n",
       "    <tr>\n",
       "      <th>min</th>\n",
       "      <td>1.000000</td>\n",
       "      <td>0.700000</td>\n",
       "      <td>0.000000</td>\n",
       "      <td>0.300000</td>\n",
       "      <td>1.600000</td>\n",
       "    </tr>\n",
       "    <tr>\n",
       "      <th>25%</th>\n",
       "      <td>50.750000</td>\n",
       "      <td>74.375000</td>\n",
       "      <td>9.975000</td>\n",
       "      <td>12.750000</td>\n",
       "      <td>10.375000</td>\n",
       "    </tr>\n",
       "    <tr>\n",
       "      <th>50%</th>\n",
       "      <td>100.500000</td>\n",
       "      <td>149.750000</td>\n",
       "      <td>22.900000</td>\n",
       "      <td>25.750000</td>\n",
       "      <td>12.900000</td>\n",
       "    </tr>\n",
       "    <tr>\n",
       "      <th>75%</th>\n",
       "      <td>150.250000</td>\n",
       "      <td>218.825000</td>\n",
       "      <td>36.525000</td>\n",
       "      <td>45.100000</td>\n",
       "      <td>17.400000</td>\n",
       "    </tr>\n",
       "    <tr>\n",
       "      <th>max</th>\n",
       "      <td>200.000000</td>\n",
       "      <td>296.400000</td>\n",
       "      <td>49.600000</td>\n",
       "      <td>114.000000</td>\n",
       "      <td>27.000000</td>\n",
       "    </tr>\n",
       "  </tbody>\n",
       "</table>\n",
       "</div>"
      ],
      "text/plain": [
       "       Unnamed: 0          TV       Radio   Newspaper       Sales\n",
       "count  200.000000  200.000000  200.000000  200.000000  200.000000\n",
       "mean   100.500000  147.042500   23.264000   30.554000   14.022500\n",
       "std     57.879185   85.854236   14.846809   21.778621    5.217457\n",
       "min      1.000000    0.700000    0.000000    0.300000    1.600000\n",
       "25%     50.750000   74.375000    9.975000   12.750000   10.375000\n",
       "50%    100.500000  149.750000   22.900000   25.750000   12.900000\n",
       "75%    150.250000  218.825000   36.525000   45.100000   17.400000\n",
       "max    200.000000  296.400000   49.600000  114.000000   27.000000"
      ]
     },
     "execution_count": 6,
     "metadata": {},
     "output_type": "execute_result"
    }
   ],
   "source": [
    "ds.describe()"
   ]
  },
  {
   "cell_type": "markdown",
   "id": "d6a18590",
   "metadata": {},
   "source": [
    "# 2.Check the summary satistics and discuss the max,min,avg,median and percentiles"
   ]
  },
  {
   "cell_type": "code",
   "execution_count": null,
   "id": "eb794d1d",
   "metadata": {},
   "outputs": [],
   "source": [
    "The dataset consists of 200 rows.\n",
    "Overall mean is 100.50 , TV ad it is 147.04, Radio 23.26,Newspaper 30.22 \n",
    "Maximum amount spent is on TV advertisement and minimum is on Radio\n",
    "The median is 149.75 for TV, 22.9 Radio and 25.75 for Newspaper advertisement.\n",
    "75% of the expense on TV lies below 218.825 , Radio 36.525 and Newspaper 45.10\n"
   ]
  },
  {
   "cell_type": "markdown",
   "id": "da7d1adb",
   "metadata": {},
   "source": [
    "# 3.The manger wants to find out whether the same amount was spent for the three advertisements(TV,Radio and newspaper).Comment on your findings"
   ]
  },
  {
   "cell_type": "code",
   "execution_count": 8,
   "id": "b80bcbdb",
   "metadata": {},
   "outputs": [
    {
     "data": {
      "text/plain": [
       "(358.8514595342597, 4.552931539744962e-103)"
      ]
     },
     "execution_count": 8,
     "metadata": {},
     "output_type": "execute_result"
    }
   ],
   "source": [
    "F,p=stats.f_oneway(ds['TV'],ds['Radio'],ds['Newspaper'])\n",
    "F,p"
   ]
  },
  {
   "cell_type": "code",
   "execution_count": null,
   "id": "b4d2b00a",
   "metadata": {},
   "outputs": [],
   "source": [
    "in the above oneway anova test \n",
    "null hypothesis is that the amount spent on three are same.\n",
    "\n",
    "the test result shows that the pvalue lesser than the alpha value(0.05).\n",
    "So we can reject the null hypothesis and the amount spent on three advertisements are not the same "
   ]
  }
 ],
 "metadata": {
  "kernelspec": {
   "display_name": "Python 3 (ipykernel)",
   "language": "python",
   "name": "python3"
  },
  "language_info": {
   "codemirror_mode": {
    "name": "ipython",
    "version": 3
   },
   "file_extension": ".py",
   "mimetype": "text/x-python",
   "name": "python",
   "nbconvert_exporter": "python",
   "pygments_lexer": "ipython3",
   "version": "3.9.7"
  }
 },
 "nbformat": 4,
 "nbformat_minor": 5
}
